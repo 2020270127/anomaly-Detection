{
 "cells": [
  {
   "cell_type": "code",
   "execution_count": 2,
   "id": "3a4b0f29",
   "metadata": {},
   "outputs": [],
   "source": [
    "import numpy as np \n",
    "import pandas as pd \n",
    "import matplotlib.pyplot as plt \n",
    "from sklearn.ensemble import IsolationForest\n",
    "from sklearn.model_selection import train_test_split\n",
    "from sklearn.preprocessing import LabelEncoder\n",
    "\n",
    "%matplotlib inline"
   ]
  },
  {
   "cell_type": "code",
   "execution_count": 3,
   "id": "5637faa5",
   "metadata": {},
   "outputs": [],
   "source": [
    "columns= [\"duration\", \"protocol type\", \"service\", \"flag\", \"src bytes\", \"dst bytes\", \"land\", \"wrong fragment\", \"urgent\", \"hot\", \"num failed logins\", \"logged in\", \"num compromised\", \"root shell\", \"su attempted\", \"num root\", \"num file creations\", \"num shells\", \"num access files\", \"num outbound cmds\", \"is host login\", \"is guest login\", \"count\", \"srv count\", \"serror rate\", \"srv serror rate\", \"rerror rate\", \"srv rerror rate\", \"same srv rate\", \"diff srv rate\", \"srv diff host rate\", \"dst host count\", \"dst host srv count\", \"dst host same srv rate\", \"dst host diff srv rate\", \"dst host same src port rate\", \"dst host srv diff host rate\", \"dst host serror rate\", \"dst host srv serror rate\", \"dst host rerror rate\", \"dst host srv rerror rate\", \"label\"] \n",
    "df = pd.read_csv(\"kddcup.data.corrected\", sep=\",\" , names=columns, index_col=None)"
   ]
  },
  {
   "cell_type": "code",
   "execution_count": 4,
   "id": "ca2f8916",
   "metadata": {},
   "outputs": [
    {
     "data": {
      "text/plain": [
       "(4898431, 42)"
      ]
     },
     "execution_count": 4,
     "metadata": {},
     "output_type": "execute_result"
    }
   ],
   "source": [
    "df.shape"
   ]
  },
  {
   "cell_type": "markdown",
   "id": "42bca7d4",
   "metadata": {},
   "source": [
    "데이터 프레임 차원 출력"
   ]
  },
  {
   "cell_type": "code",
   "execution_count": 5,
   "id": "5d2f0add",
   "metadata": {},
   "outputs": [],
   "source": [
    "df = df[df[\"service\"] == \"http\"]\n",
    "df = df.drop(\"service\", axis=1)\n",
    "columns.remove(\"service\")"
   ]
  },
  {
   "cell_type": "markdown",
   "id": "b106437d",
   "metadata": {},
   "source": [
    "service 데이터 프레임 중 \"http\" 열을 잡아서 삭제 후 라벨 제거 (1열, service 열) (axis=0->행, axis=1->열)"
   ]
  },
  {
   "cell_type": "code",
   "execution_count": 6,
   "id": "a88c4d69",
   "metadata": {},
   "outputs": [
    {
     "data": {
      "text/plain": [
       "(623091, 41)"
      ]
     },
     "execution_count": 6,
     "metadata": {},
     "output_type": "execute_result"
    }
   ],
   "source": [
    "df.shape"
   ]
  },
  {
   "cell_type": "markdown",
   "id": "319d12a5",
   "metadata": {},
   "source": [
    "삭제 후 데이터 프레임 차원"
   ]
  },
  {
   "cell_type": "code",
   "execution_count": 7,
   "id": "a954d560",
   "metadata": {},
   "outputs": [
    {
     "data": {
      "text/plain": [
       "normal.       619046\n",
       "back.           2203\n",
       "neptune.        1801\n",
       "portsweep.        16\n",
       "ipsweep.          13\n",
       "satan.             7\n",
       "phf.               4\n",
       "nmap.              1\n",
       "Name: label, dtype: int64"
      ]
     },
     "execution_count": 7,
     "metadata": {},
     "output_type": "execute_result"
    }
   ],
   "source": [
    "df[\"label\"].value_counts()"
   ]
  },
  {
   "cell_type": "markdown",
   "id": "b4ccdb58",
   "metadata": {},
   "source": [
    "전체 데이터 중 공격은 0.6% 정도"
   ]
  },
  {
   "cell_type": "code",
   "execution_count": 8,
   "id": "051418f2",
   "metadata": {},
   "outputs": [
    {
     "data": {
      "text/html": [
       "<div>\n",
       "<style scoped>\n",
       "    .dataframe tbody tr th:only-of-type {\n",
       "        vertical-align: middle;\n",
       "    }\n",
       "\n",
       "    .dataframe tbody tr th {\n",
       "        vertical-align: top;\n",
       "    }\n",
       "\n",
       "    .dataframe thead th {\n",
       "        text-align: right;\n",
       "    }\n",
       "</style>\n",
       "<table border=\"1\" class=\"dataframe\">\n",
       "  <thead>\n",
       "    <tr style=\"text-align: right;\">\n",
       "      <th></th>\n",
       "      <th>duration</th>\n",
       "      <th>protocol type</th>\n",
       "      <th>flag</th>\n",
       "      <th>src bytes</th>\n",
       "      <th>dst bytes</th>\n",
       "      <th>land</th>\n",
       "      <th>wrong fragment</th>\n",
       "      <th>urgent</th>\n",
       "      <th>hot</th>\n",
       "      <th>num failed logins</th>\n",
       "      <th>...</th>\n",
       "      <th>dst host srv count</th>\n",
       "      <th>dst host same srv rate</th>\n",
       "      <th>dst host diff srv rate</th>\n",
       "      <th>dst host same src port rate</th>\n",
       "      <th>dst host srv diff host rate</th>\n",
       "      <th>dst host serror rate</th>\n",
       "      <th>dst host srv serror rate</th>\n",
       "      <th>dst host rerror rate</th>\n",
       "      <th>dst host srv rerror rate</th>\n",
       "      <th>label</th>\n",
       "    </tr>\n",
       "  </thead>\n",
       "  <tbody>\n",
       "    <tr>\n",
       "      <th>0</th>\n",
       "      <td>0</td>\n",
       "      <td>tcp</td>\n",
       "      <td>SF</td>\n",
       "      <td>215</td>\n",
       "      <td>45076</td>\n",
       "      <td>0</td>\n",
       "      <td>0</td>\n",
       "      <td>0</td>\n",
       "      <td>0</td>\n",
       "      <td>0</td>\n",
       "      <td>...</td>\n",
       "      <td>0</td>\n",
       "      <td>0.0</td>\n",
       "      <td>0.0</td>\n",
       "      <td>0.00</td>\n",
       "      <td>0.0</td>\n",
       "      <td>0.0</td>\n",
       "      <td>0.0</td>\n",
       "      <td>0.0</td>\n",
       "      <td>0.0</td>\n",
       "      <td>normal.</td>\n",
       "    </tr>\n",
       "    <tr>\n",
       "      <th>1</th>\n",
       "      <td>0</td>\n",
       "      <td>tcp</td>\n",
       "      <td>SF</td>\n",
       "      <td>162</td>\n",
       "      <td>4528</td>\n",
       "      <td>0</td>\n",
       "      <td>0</td>\n",
       "      <td>0</td>\n",
       "      <td>0</td>\n",
       "      <td>0</td>\n",
       "      <td>...</td>\n",
       "      <td>1</td>\n",
       "      <td>1.0</td>\n",
       "      <td>0.0</td>\n",
       "      <td>1.00</td>\n",
       "      <td>0.0</td>\n",
       "      <td>0.0</td>\n",
       "      <td>0.0</td>\n",
       "      <td>0.0</td>\n",
       "      <td>0.0</td>\n",
       "      <td>normal.</td>\n",
       "    </tr>\n",
       "    <tr>\n",
       "      <th>2</th>\n",
       "      <td>0</td>\n",
       "      <td>tcp</td>\n",
       "      <td>SF</td>\n",
       "      <td>236</td>\n",
       "      <td>1228</td>\n",
       "      <td>0</td>\n",
       "      <td>0</td>\n",
       "      <td>0</td>\n",
       "      <td>0</td>\n",
       "      <td>0</td>\n",
       "      <td>...</td>\n",
       "      <td>2</td>\n",
       "      <td>1.0</td>\n",
       "      <td>0.0</td>\n",
       "      <td>0.50</td>\n",
       "      <td>0.0</td>\n",
       "      <td>0.0</td>\n",
       "      <td>0.0</td>\n",
       "      <td>0.0</td>\n",
       "      <td>0.0</td>\n",
       "      <td>normal.</td>\n",
       "    </tr>\n",
       "    <tr>\n",
       "      <th>3</th>\n",
       "      <td>0</td>\n",
       "      <td>tcp</td>\n",
       "      <td>SF</td>\n",
       "      <td>233</td>\n",
       "      <td>2032</td>\n",
       "      <td>0</td>\n",
       "      <td>0</td>\n",
       "      <td>0</td>\n",
       "      <td>0</td>\n",
       "      <td>0</td>\n",
       "      <td>...</td>\n",
       "      <td>3</td>\n",
       "      <td>1.0</td>\n",
       "      <td>0.0</td>\n",
       "      <td>0.33</td>\n",
       "      <td>0.0</td>\n",
       "      <td>0.0</td>\n",
       "      <td>0.0</td>\n",
       "      <td>0.0</td>\n",
       "      <td>0.0</td>\n",
       "      <td>normal.</td>\n",
       "    </tr>\n",
       "    <tr>\n",
       "      <th>4</th>\n",
       "      <td>0</td>\n",
       "      <td>tcp</td>\n",
       "      <td>SF</td>\n",
       "      <td>239</td>\n",
       "      <td>486</td>\n",
       "      <td>0</td>\n",
       "      <td>0</td>\n",
       "      <td>0</td>\n",
       "      <td>0</td>\n",
       "      <td>0</td>\n",
       "      <td>...</td>\n",
       "      <td>4</td>\n",
       "      <td>1.0</td>\n",
       "      <td>0.0</td>\n",
       "      <td>0.25</td>\n",
       "      <td>0.0</td>\n",
       "      <td>0.0</td>\n",
       "      <td>0.0</td>\n",
       "      <td>0.0</td>\n",
       "      <td>0.0</td>\n",
       "      <td>normal.</td>\n",
       "    </tr>\n",
       "  </tbody>\n",
       "</table>\n",
       "<p>5 rows × 41 columns</p>\n",
       "</div>"
      ],
      "text/plain": [
       "   duration protocol type flag  src bytes  dst bytes  land  wrong fragment  \\\n",
       "0         0           tcp   SF        215      45076     0               0   \n",
       "1         0           tcp   SF        162       4528     0               0   \n",
       "2         0           tcp   SF        236       1228     0               0   \n",
       "3         0           tcp   SF        233       2032     0               0   \n",
       "4         0           tcp   SF        239        486     0               0   \n",
       "\n",
       "   urgent  hot  num failed logins  ...  dst host srv count  \\\n",
       "0       0    0                  0  ...                   0   \n",
       "1       0    0                  0  ...                   1   \n",
       "2       0    0                  0  ...                   2   \n",
       "3       0    0                  0  ...                   3   \n",
       "4       0    0                  0  ...                   4   \n",
       "\n",
       "   dst host same srv rate  dst host diff srv rate  \\\n",
       "0                     0.0                     0.0   \n",
       "1                     1.0                     0.0   \n",
       "2                     1.0                     0.0   \n",
       "3                     1.0                     0.0   \n",
       "4                     1.0                     0.0   \n",
       "\n",
       "   dst host same src port rate  dst host srv diff host rate  \\\n",
       "0                         0.00                          0.0   \n",
       "1                         1.00                          0.0   \n",
       "2                         0.50                          0.0   \n",
       "3                         0.33                          0.0   \n",
       "4                         0.25                          0.0   \n",
       "\n",
       "   dst host serror rate  dst host srv serror rate  dst host rerror rate  \\\n",
       "0                   0.0                       0.0                   0.0   \n",
       "1                   0.0                       0.0                   0.0   \n",
       "2                   0.0                       0.0                   0.0   \n",
       "3                   0.0                       0.0                   0.0   \n",
       "4                   0.0                       0.0                   0.0   \n",
       "\n",
       "   dst host srv rerror rate    label  \n",
       "0                       0.0  normal.  \n",
       "1                       0.0  normal.  \n",
       "2                       0.0  normal.  \n",
       "3                       0.0  normal.  \n",
       "4                       0.0  normal.  \n",
       "\n",
       "[5 rows x 41 columns]"
      ]
     },
     "execution_count": 8,
     "metadata": {},
     "output_type": "execute_result"
    }
   ],
   "source": [
    "df.head(5)"
   ]
  },
  {
   "cell_type": "code",
   "execution_count": 9,
   "id": "9df5c145",
   "metadata": {},
   "outputs": [],
   "source": [
    "for col in df.columns:\n",
    "    if df[col].dtype == \"object\":\n",
    "        encoded = LabelEncoder()\n",
    "        encoded.fit(df[col])\n",
    "        df[col] = encoded.transform(df[col])"
   ]
  },
  {
   "cell_type": "markdown",
   "id": "724fb7f5",
   "metadata": {},
   "source": [
    "데이터 프레임의 열마다 string을 잡아서 라벨 인코딩을 한다. encoded를 labelEncoder로 선언 후 , 데이터 프레임의 모든 열을 fit을 통해 전달 후 transform 을 통해 변환"
   ]
  },
  {
   "cell_type": "code",
   "execution_count": 10,
   "id": "73d8e748",
   "metadata": {},
   "outputs": [
    {
     "data": {
      "text/html": [
       "<div>\n",
       "<style scoped>\n",
       "    .dataframe tbody tr th:only-of-type {\n",
       "        vertical-align: middle;\n",
       "    }\n",
       "\n",
       "    .dataframe tbody tr th {\n",
       "        vertical-align: top;\n",
       "    }\n",
       "\n",
       "    .dataframe thead th {\n",
       "        text-align: right;\n",
       "    }\n",
       "</style>\n",
       "<table border=\"1\" class=\"dataframe\">\n",
       "  <thead>\n",
       "    <tr style=\"text-align: right;\">\n",
       "      <th></th>\n",
       "      <th>duration</th>\n",
       "      <th>protocol type</th>\n",
       "      <th>flag</th>\n",
       "      <th>src bytes</th>\n",
       "      <th>dst bytes</th>\n",
       "      <th>land</th>\n",
       "      <th>wrong fragment</th>\n",
       "      <th>urgent</th>\n",
       "      <th>hot</th>\n",
       "      <th>num failed logins</th>\n",
       "      <th>...</th>\n",
       "      <th>dst host srv count</th>\n",
       "      <th>dst host same srv rate</th>\n",
       "      <th>dst host diff srv rate</th>\n",
       "      <th>dst host same src port rate</th>\n",
       "      <th>dst host srv diff host rate</th>\n",
       "      <th>dst host serror rate</th>\n",
       "      <th>dst host srv serror rate</th>\n",
       "      <th>dst host rerror rate</th>\n",
       "      <th>dst host srv rerror rate</th>\n",
       "      <th>label</th>\n",
       "    </tr>\n",
       "  </thead>\n",
       "  <tbody>\n",
       "    <tr>\n",
       "      <th>0</th>\n",
       "      <td>0</td>\n",
       "      <td>0</td>\n",
       "      <td>9</td>\n",
       "      <td>215</td>\n",
       "      <td>45076</td>\n",
       "      <td>0</td>\n",
       "      <td>0</td>\n",
       "      <td>0</td>\n",
       "      <td>0</td>\n",
       "      <td>0</td>\n",
       "      <td>...</td>\n",
       "      <td>0</td>\n",
       "      <td>0.0</td>\n",
       "      <td>0.0</td>\n",
       "      <td>0.00</td>\n",
       "      <td>0.0</td>\n",
       "      <td>0.0</td>\n",
       "      <td>0.0</td>\n",
       "      <td>0.0</td>\n",
       "      <td>0.0</td>\n",
       "      <td>4</td>\n",
       "    </tr>\n",
       "    <tr>\n",
       "      <th>1</th>\n",
       "      <td>0</td>\n",
       "      <td>0</td>\n",
       "      <td>9</td>\n",
       "      <td>162</td>\n",
       "      <td>4528</td>\n",
       "      <td>0</td>\n",
       "      <td>0</td>\n",
       "      <td>0</td>\n",
       "      <td>0</td>\n",
       "      <td>0</td>\n",
       "      <td>...</td>\n",
       "      <td>1</td>\n",
       "      <td>1.0</td>\n",
       "      <td>0.0</td>\n",
       "      <td>1.00</td>\n",
       "      <td>0.0</td>\n",
       "      <td>0.0</td>\n",
       "      <td>0.0</td>\n",
       "      <td>0.0</td>\n",
       "      <td>0.0</td>\n",
       "      <td>4</td>\n",
       "    </tr>\n",
       "    <tr>\n",
       "      <th>2</th>\n",
       "      <td>0</td>\n",
       "      <td>0</td>\n",
       "      <td>9</td>\n",
       "      <td>236</td>\n",
       "      <td>1228</td>\n",
       "      <td>0</td>\n",
       "      <td>0</td>\n",
       "      <td>0</td>\n",
       "      <td>0</td>\n",
       "      <td>0</td>\n",
       "      <td>...</td>\n",
       "      <td>2</td>\n",
       "      <td>1.0</td>\n",
       "      <td>0.0</td>\n",
       "      <td>0.50</td>\n",
       "      <td>0.0</td>\n",
       "      <td>0.0</td>\n",
       "      <td>0.0</td>\n",
       "      <td>0.0</td>\n",
       "      <td>0.0</td>\n",
       "      <td>4</td>\n",
       "    </tr>\n",
       "    <tr>\n",
       "      <th>3</th>\n",
       "      <td>0</td>\n",
       "      <td>0</td>\n",
       "      <td>9</td>\n",
       "      <td>233</td>\n",
       "      <td>2032</td>\n",
       "      <td>0</td>\n",
       "      <td>0</td>\n",
       "      <td>0</td>\n",
       "      <td>0</td>\n",
       "      <td>0</td>\n",
       "      <td>...</td>\n",
       "      <td>3</td>\n",
       "      <td>1.0</td>\n",
       "      <td>0.0</td>\n",
       "      <td>0.33</td>\n",
       "      <td>0.0</td>\n",
       "      <td>0.0</td>\n",
       "      <td>0.0</td>\n",
       "      <td>0.0</td>\n",
       "      <td>0.0</td>\n",
       "      <td>4</td>\n",
       "    </tr>\n",
       "    <tr>\n",
       "      <th>4</th>\n",
       "      <td>0</td>\n",
       "      <td>0</td>\n",
       "      <td>9</td>\n",
       "      <td>239</td>\n",
       "      <td>486</td>\n",
       "      <td>0</td>\n",
       "      <td>0</td>\n",
       "      <td>0</td>\n",
       "      <td>0</td>\n",
       "      <td>0</td>\n",
       "      <td>...</td>\n",
       "      <td>4</td>\n",
       "      <td>1.0</td>\n",
       "      <td>0.0</td>\n",
       "      <td>0.25</td>\n",
       "      <td>0.0</td>\n",
       "      <td>0.0</td>\n",
       "      <td>0.0</td>\n",
       "      <td>0.0</td>\n",
       "      <td>0.0</td>\n",
       "      <td>4</td>\n",
       "    </tr>\n",
       "  </tbody>\n",
       "</table>\n",
       "<p>5 rows × 41 columns</p>\n",
       "</div>"
      ],
      "text/plain": [
       "   duration  protocol type  flag  src bytes  dst bytes  land  wrong fragment  \\\n",
       "0         0              0     9        215      45076     0               0   \n",
       "1         0              0     9        162       4528     0               0   \n",
       "2         0              0     9        236       1228     0               0   \n",
       "3         0              0     9        233       2032     0               0   \n",
       "4         0              0     9        239        486     0               0   \n",
       "\n",
       "   urgent  hot  num failed logins  ...  dst host srv count  \\\n",
       "0       0    0                  0  ...                   0   \n",
       "1       0    0                  0  ...                   1   \n",
       "2       0    0                  0  ...                   2   \n",
       "3       0    0                  0  ...                   3   \n",
       "4       0    0                  0  ...                   4   \n",
       "\n",
       "   dst host same srv rate  dst host diff srv rate  \\\n",
       "0                     0.0                     0.0   \n",
       "1                     1.0                     0.0   \n",
       "2                     1.0                     0.0   \n",
       "3                     1.0                     0.0   \n",
       "4                     1.0                     0.0   \n",
       "\n",
       "   dst host same src port rate  dst host srv diff host rate  \\\n",
       "0                         0.00                          0.0   \n",
       "1                         1.00                          0.0   \n",
       "2                         0.50                          0.0   \n",
       "3                         0.33                          0.0   \n",
       "4                         0.25                          0.0   \n",
       "\n",
       "   dst host serror rate  dst host srv serror rate  dst host rerror rate  \\\n",
       "0                   0.0                       0.0                   0.0   \n",
       "1                   0.0                       0.0                   0.0   \n",
       "2                   0.0                       0.0                   0.0   \n",
       "3                   0.0                       0.0                   0.0   \n",
       "4                   0.0                       0.0                   0.0   \n",
       "\n",
       "   dst host srv rerror rate  label  \n",
       "0                       0.0      4  \n",
       "1                       0.0      4  \n",
       "2                       0.0      4  \n",
       "3                       0.0      4  \n",
       "4                       0.0      4  \n",
       "\n",
       "[5 rows x 41 columns]"
      ]
     },
     "execution_count": 10,
     "metadata": {},
     "output_type": "execute_result"
    }
   ],
   "source": [
    "df.head(5)"
   ]
  },
  {
   "cell_type": "markdown",
   "id": "aab707d3",
   "metadata": {},
   "source": [
    "tcp, SF등 문자열(범주형 데이터)들이 숫자로 변경된 걸 확인할 수 있다."
   ]
  },
  {
   "cell_type": "code",
   "execution_count": 11,
   "id": "983a25bc",
   "metadata": {},
   "outputs": [],
   "source": [
    "for f in range(0,3):\n",
    "    df = df.iloc[np.random.permutation(len(df))]\n",
    "    \n",
    "df2 = df[:500000]\n",
    "labels = df2[\"label\"]\n",
    "df_validate = df[500000:]\n",
    "x_train, x_test, y_train, y_test = train_test_split(df2, labels, test_size = 0.2, random_state = 42)\n",
    "\n",
    "x_val, y_val = df_validate, df_validate[\"label\"]"
   ]
  },
  {
   "cell_type": "markdown",
   "id": "637879eb",
   "metadata": {},
   "source": [
    "iloc은 데이터 프레임의 행을 선택하는 메서드, 대괄호 안에 선택하는 방식이 있다. 현재는 random_permutation으로 선택한다.\n",
    "df2는 처음 500,000개의 항목, labels는 df2중 \"label\"열을 선택한 것, df_validate는 처음 500,000개 이후의 데이터.\n",
    "\n",
    "train_test_split은 데이터를 훈련 세트와 시험 세트로 분할하는 함수.\n",
    "x는 훈련 데이터, y는 훈련 레이블. test_size % 만큼 (ramdom_state를 난수 생성기를 초기화할때 사용하며 생성한) 랜덤값을 이용해 선택한다.\n",
    "\n",
    "이후 500,000개 이후의 값들인 x_val과 그중 label을 모아놓은 y_val은 검증 세트로 사용한다.\n",
    "\n",
    "훈련 데이터는 말 그대로 train시킬때 사용하는 데이터, 시험 데이터는 train시킨 모델을 시험하는데 사용하는 데이터, 검증 데이터는 훈련 중 모델의 훈련 상황을 측정하기 위해 사용한다."
   ]
  },
  {
   "cell_type": "code",
   "execution_count": 12,
   "id": "d192bafd",
   "metadata": {},
   "outputs": [],
   "source": [
    "isolation_forest = IsolationForest(n_estimators = 100, max_samples = 256, contamination = 0.1, random_state = 42)"
   ]
  },
  {
   "cell_type": "markdown",
   "id": "9883fb02",
   "metadata": {},
   "source": [
    "n_estimators = 100 -> 포레스트에 사용할 트리 수(100이 default)  \n",
    "mas_samples -> 최대 포인트 개수(256 or min of samples 이 default)  \n",
    "contamination(오염) -> 이상 징후/특이값으로 간주되어야 하는 전체 데이터 세트의 백분율(10%가 default)  \n",
    "random_state -> 난수 생성기에 사용하는 값. 해당 모델은 난수 생성기를 많이 이용한다."
   ]
  },
  {
   "cell_type": "code",
   "execution_count": 13,
   "id": "0ee44070",
   "metadata": {},
   "outputs": [
    {
     "data": {
      "text/html": [
       "<style>#sk-container-id-1 {color: black;}#sk-container-id-1 pre{padding: 0;}#sk-container-id-1 div.sk-toggleable {background-color: white;}#sk-container-id-1 label.sk-toggleable__label {cursor: pointer;display: block;width: 100%;margin-bottom: 0;padding: 0.3em;box-sizing: border-box;text-align: center;}#sk-container-id-1 label.sk-toggleable__label-arrow:before {content: \"▸\";float: left;margin-right: 0.25em;color: #696969;}#sk-container-id-1 label.sk-toggleable__label-arrow:hover:before {color: black;}#sk-container-id-1 div.sk-estimator:hover label.sk-toggleable__label-arrow:before {color: black;}#sk-container-id-1 div.sk-toggleable__content {max-height: 0;max-width: 0;overflow: hidden;text-align: left;background-color: #f0f8ff;}#sk-container-id-1 div.sk-toggleable__content pre {margin: 0.2em;color: black;border-radius: 0.25em;background-color: #f0f8ff;}#sk-container-id-1 input.sk-toggleable__control:checked~div.sk-toggleable__content {max-height: 200px;max-width: 100%;overflow: auto;}#sk-container-id-1 input.sk-toggleable__control:checked~label.sk-toggleable__label-arrow:before {content: \"▾\";}#sk-container-id-1 div.sk-estimator input.sk-toggleable__control:checked~label.sk-toggleable__label {background-color: #d4ebff;}#sk-container-id-1 div.sk-label input.sk-toggleable__control:checked~label.sk-toggleable__label {background-color: #d4ebff;}#sk-container-id-1 input.sk-hidden--visually {border: 0;clip: rect(1px 1px 1px 1px);clip: rect(1px, 1px, 1px, 1px);height: 1px;margin: -1px;overflow: hidden;padding: 0;position: absolute;width: 1px;}#sk-container-id-1 div.sk-estimator {font-family: monospace;background-color: #f0f8ff;border: 1px dotted black;border-radius: 0.25em;box-sizing: border-box;margin-bottom: 0.5em;}#sk-container-id-1 div.sk-estimator:hover {background-color: #d4ebff;}#sk-container-id-1 div.sk-parallel-item::after {content: \"\";width: 100%;border-bottom: 1px solid gray;flex-grow: 1;}#sk-container-id-1 div.sk-label:hover label.sk-toggleable__label {background-color: #d4ebff;}#sk-container-id-1 div.sk-serial::before {content: \"\";position: absolute;border-left: 1px solid gray;box-sizing: border-box;top: 0;bottom: 0;left: 50%;z-index: 0;}#sk-container-id-1 div.sk-serial {display: flex;flex-direction: column;align-items: center;background-color: white;padding-right: 0.2em;padding-left: 0.2em;position: relative;}#sk-container-id-1 div.sk-item {position: relative;z-index: 1;}#sk-container-id-1 div.sk-parallel {display: flex;align-items: stretch;justify-content: center;background-color: white;position: relative;}#sk-container-id-1 div.sk-item::before, #sk-container-id-1 div.sk-parallel-item::before {content: \"\";position: absolute;border-left: 1px solid gray;box-sizing: border-box;top: 0;bottom: 0;left: 50%;z-index: -1;}#sk-container-id-1 div.sk-parallel-item {display: flex;flex-direction: column;z-index: 1;position: relative;background-color: white;}#sk-container-id-1 div.sk-parallel-item:first-child::after {align-self: flex-end;width: 50%;}#sk-container-id-1 div.sk-parallel-item:last-child::after {align-self: flex-start;width: 50%;}#sk-container-id-1 div.sk-parallel-item:only-child::after {width: 0;}#sk-container-id-1 div.sk-dashed-wrapped {border: 1px dashed gray;margin: 0 0.4em 0.5em 0.4em;box-sizing: border-box;padding-bottom: 0.4em;background-color: white;}#sk-container-id-1 div.sk-label label {font-family: monospace;font-weight: bold;display: inline-block;line-height: 1.2em;}#sk-container-id-1 div.sk-label-container {text-align: center;}#sk-container-id-1 div.sk-container {/* jupyter's `normalize.less` sets `[hidden] { display: none; }` but bootstrap.min.css set `[hidden] { display: none !important; }` so we also need the `!important` here to be able to override the default hidden behavior on the sphinx rendered scikit-learn.org. See: https://github.com/scikit-learn/scikit-learn/issues/21755 */display: inline-block !important;position: relative;}#sk-container-id-1 div.sk-text-repr-fallback {display: none;}</style><div id=\"sk-container-id-1\" class=\"sk-top-container\"><div class=\"sk-text-repr-fallback\"><pre>IsolationForest(contamination=0.1, max_samples=256, random_state=42)</pre><b>In a Jupyter environment, please rerun this cell to show the HTML representation or trust the notebook. <br />On GitHub, the HTML representation is unable to render, please try loading this page with nbviewer.org.</b></div><div class=\"sk-container\" hidden><div class=\"sk-item\"><div class=\"sk-estimator sk-toggleable\"><input class=\"sk-toggleable__control sk-hidden--visually\" id=\"sk-estimator-id-1\" type=\"checkbox\" checked><label for=\"sk-estimator-id-1\" class=\"sk-toggleable__label sk-toggleable__label-arrow\">IsolationForest</label><div class=\"sk-toggleable__content\"><pre>IsolationForest(contamination=0.1, max_samples=256, random_state=42)</pre></div></div></div></div></div>"
      ],
      "text/plain": [
       "IsolationForest(contamination=0.1, max_samples=256, random_state=42)"
      ]
     },
     "execution_count": 13,
     "metadata": {},
     "output_type": "execute_result"
    }
   ],
   "source": [
    "isolation_forest.fit(x_train)"
   ]
  },
  {
   "cell_type": "code",
   "execution_count": 14,
   "id": "cb1b9cb2",
   "metadata": {},
   "outputs": [
    {
     "data": {
      "image/png": "[encoded data removed]",
      "text/plain": [
       "<Figure size 1500x1000 with 1 Axes>"
      ]
     },
     "metadata": {},
     "output_type": "display_data"
    }
   ],
   "source": [
    "anomaly_scores = isolation_forest.decision_function(x_val)\n",
    "plt.figure(figsize = (15,10))\n",
    "plt.hist(anomaly_scores, bins=100)\n",
    "plt.xlabel('Average Path Lengths', fontsize = 14)\n",
    "plt.ylabel('Numver of Data Points', fontsize = 14)\n",
    "plt.show()"
   ]
  },
  {
   "cell_type": "markdown",
   "id": "8deea758",
   "metadata": {},
   "source": [
    "anomaly_scores -> 히스토그램에 표현하는 데이터, bins -> 구간 수.\n",
    "위 히스토그램을 보면 길이가 음수인 경우가 이상치이다."
   ]
  },
  {
   "cell_type": "code",
   "execution_count": 16,
   "id": "17d887c7",
   "metadata": {},
   "outputs": [
    {
     "name": "stdout",
     "output_type": "stream",
     "text": [
      "AUC:     95.38%\n"
     ]
    }
   ],
   "source": [
    "from sklearn.metrics import roc_auc_score\n",
    "\n",
    "anomalies = anomaly_scores > -0.19\n",
    "matches = y_val == list(encoded.classes_).index(\"normal.\")\n",
    "auc = roc_auc_score(anomalies, matches)\n",
    "print(\"AUC:     {:.2%}\".format(auc))"
   ]
  },
  {
   "cell_type": "code",
   "execution_count": 17,
   "id": "3ee36453",
   "metadata": {},
   "outputs": [
    {
     "data": {
      "image/png": "[encoded data removed]",
      "text/plain": [
       "<Figure size 1500x1000 with 1 Axes>"
      ]
     },
     "metadata": {},
     "output_type": "display_data"
    }
   ],
   "source": [
    "anomaly_scores_test = isolation_forest.decision_function(x_test)\n",
    "plt.figure(figsize=(15,10))\n",
    "plt.hist(anomaly_scores_test, bins=100)\n",
    "plt.xlabel('Average Path Lengths', fontsize=14)\n",
    "plt.ylabel('Number of Data Points', fontsize=14)\n",
    "plt.show()\n"
   ]
  },
  {
   "cell_type": "code",
   "execution_count": 18,
   "id": "e77a6ebc",
   "metadata": {},
   "outputs": [
    {
     "name": "stdout",
     "output_type": "stream",
     "text": [
      "AUC: 96.66%\n"
     ]
    }
   ],
   "source": [
    "anomalies_test = anomaly_scores_test > -0.19\n",
    "matches = y_test == list(encoded.classes_).index(\"normal.\")\n",
    "auc = roc_auc_score(anomalies_test, matches)\n",
    "print(\"AUC: {:.2%}\".format(auc))"
   ]
  },
  {
   "cell_type": "code",
   "execution_count": null,
   "id": "eada8f79",
   "metadata": {},
   "outputs": [],
   "source": []
  }
 ],
 "metadata": {
  "kernelspec": {
   "display_name": "Python 3 (ipykernel)",
   "language": "python",
   "name": "python3"
  },
  "language_info": {
   "codemirror_mode": {
    "name": "ipython",
    "version": 3
   },
   "file_extension": ".py",
   "mimetype": "text/x-python",
   "name": "python",
   "nbconvert_exporter": "python",
   "pygments_lexer": "ipython3",
   "version": "3.11.4"
  }
 },
 "nbformat": 4,
 "nbformat_minor": 5
}
