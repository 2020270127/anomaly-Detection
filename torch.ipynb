{
 "cells": [
  {
   "cell_type": "code",
   "execution_count": 1,
   "id": "9ba03578-1bde-4a3c-88ec-2545abc5d467",
   "metadata": {},
   "outputs": [],
   "source": [
    "import torch\n",
    "from torch import nn\n",
    "import torchvision\n",
    "import torchvision.transforms as transforms\n",
    "import torch.optim as optim\n",
    "import torch.nn.functional as F\n",
    "import numpy as np\n",
    "\n",
    "device = torch.device('cpu')"
   ]
  },
  {
   "cell_type": "code",
   "execution_count": 2,
   "id": "a1f00c82-307b-4747-8548-ad1971d58600",
   "metadata": {},
   "outputs": [],
   "source": [
    "num_epochs = 15\n",
    "batch_size = 128\n",
    "learning_rate = 0.001"
   ]
  },
  {
   "cell_type": "code",
   "execution_count": 3,
   "id": "0dbbd6bc-28f0-426d-8bd4-bc3bff631535",
   "metadata": {},
   "outputs": [
    {
     "name": "stdout",
     "output_type": "stream",
     "text": [
      "Downloading http://yann.lecun.com/exdb/mnist/train-images-idx3-ubyte.gz\n",
      "Downloading http://yann.lecun.com/exdb/mnist/train-images-idx3-ubyte.gz to ../../data/MNIST\\raw\\train-images-idx3-ubyte.gz\n"
     ]
    },
    {
     "name": "stderr",
     "output_type": "stream",
     "text": [
      "100.0%\n"
     ]
    },
    {
     "name": "stdout",
     "output_type": "stream",
     "text": [
      "Extracting ../../data/MNIST\\raw\\train-images-idx3-ubyte.gz to ../../data/MNIST\\raw\n",
      "\n",
      "Downloading http://yann.lecun.com/exdb/mnist/train-labels-idx1-ubyte.gz\n"
     ]
    },
    {
     "name": "stderr",
     "output_type": "stream",
     "text": [
      "100.0%"
     ]
    },
    {
     "name": "stdout",
     "output_type": "stream",
     "text": [
      "Downloading http://yann.lecun.com/exdb/mnist/train-labels-idx1-ubyte.gz to ../../data/MNIST\\raw\\train-labels-idx1-ubyte.gz\n",
      "Extracting ../../data/MNIST\\raw\\train-labels-idx1-ubyte.gz to ../../data/MNIST\\raw\n",
      "\n",
      "Downloading http://yann.lecun.com/exdb/mnist/t10k-images-idx3-ubyte.gz\n"
     ]
    },
    {
     "name": "stderr",
     "output_type": "stream",
     "text": [
      "\n",
      "4.0%"
     ]
    },
    {
     "name": "stdout",
     "output_type": "stream",
     "text": [
      "Downloading http://yann.lecun.com/exdb/mnist/t10k-images-idx3-ubyte.gz to ../../data/MNIST\\raw\\t10k-images-idx3-ubyte.gz\n"
     ]
    },
    {
     "name": "stderr",
     "output_type": "stream",
     "text": [
      "100.0%\n"
     ]
    },
    {
     "name": "stdout",
     "output_type": "stream",
     "text": [
      "Extracting ../../data/MNIST\\raw\\t10k-images-idx3-ubyte.gz to ../../data/MNIST\\raw\n",
      "\n",
      "Downloading http://yann.lecun.com/exdb/mnist/t10k-labels-idx1-ubyte.gz\n",
      "Downloading http://yann.lecun.com/exdb/mnist/t10k-labels-idx1-ubyte.gz to ../../data/MNIST\\raw\\t10k-labels-idx1-ubyte.gz\n"
     ]
    },
    {
     "name": "stderr",
     "output_type": "stream",
     "text": [
      "100.0%"
     ]
    },
    {
     "name": "stdout",
     "output_type": "stream",
     "text": [
      "Extracting ../../data/MNIST\\raw\\t10k-labels-idx1-ubyte.gz to ../../data/MNIST\\raw\n",
      "\n"
     ]
    },
    {
     "name": "stderr",
     "output_type": "stream",
     "text": [
      "\n"
     ]
    }
   ],
   "source": [
    "train_dataset = torchvision.datasets.MNIST(root='../../data/', train=True, transform=transforms.ToTensor(), download=True)\n",
    "test_dataset = torchvision.datasets.MNIST(root='../../data/', train=False, transform=transforms.ToTensor())\n",
    "\n",
    "train_loader = torch.utils.data.DataLoader(dataset=train_dataset, batch_size = batch_size, shuffle = True)\n",
    "test_loader = torch.utils.data.DataLoader(dataset=test_dataset, batch_size = batch_size, shuffle = False)"
   ]
  },
  {
   "cell_type": "code",
   "execution_count": 4,
   "id": "4c917520-e070-4f95-b197-195069c006d2",
   "metadata": {},
   "outputs": [],
   "source": [
    "class CNN(nn.Module):\n",
    "    def __init__(self):\n",
    "        super(CNN,self).__init__()\n",
    "        self.conv1 = nn.Conv2d(1,32,3,1)\n",
    "        self.conv2 = nn.Conv2d(32,64,3,1)\n",
    "        self.dense1 = nn.Linear(12*12*64, 128)\n",
    "        self.dense2 = nn.Linear(128,10)\n",
    "\n",
    "    def forward(self, x):\n",
    "        x = F.relu(self.conv1(x))\n",
    "        x = F.relu(self.conv2(x))\n",
    "        x = F.max_pool2d(x,2,2)\n",
    "        x = F.dropout(x,0.25)\n",
    "        x = x.view(-1, 12*12*64)\n",
    "        x = F.relu(self.dense1(x))\n",
    "        x = F.dropout(x,0.25)\n",
    "        x = self.dense2(x)\n",
    "        return F.log_softmax(x,dim=1)\n",
    "        "
   ]
  },
  {
   "cell_type": "code",
   "execution_count": 11,
   "id": "8c0afc5d-ac74-4775-9e86-d6d6f70a04d9",
   "metadata": {},
   "outputs": [
    {
     "name": "stdout",
     "output_type": "stream",
     "text": [
      "Epoch [1/15], Step [100/469], Loss: 25.2523%\n",
      "Epoch [1/15], Step [200/469], Loss: 8.5622%\n",
      "Epoch [1/15], Step [300/469], Loss: 12.1812%\n",
      "Epoch [1/15], Step [400/469], Loss: 9.7914%\n",
      "Epoch [2/15], Step [100/469], Loss: 3.9408%\n",
      "Epoch [2/15], Step [200/469], Loss: 11.1880%\n",
      "Epoch [2/15], Step [300/469], Loss: 6.9643%\n",
      "Epoch [2/15], Step [400/469], Loss: 5.6727%\n",
      "Epoch [3/15], Step [100/469], Loss: 1.9566%\n",
      "Epoch [3/15], Step [200/469], Loss: 2.7167%\n",
      "Epoch [3/15], Step [300/469], Loss: 5.1164%\n",
      "Epoch [3/15], Step [400/469], Loss: 4.7816%\n",
      "Epoch [4/15], Step [100/469], Loss: 8.4234%\n",
      "Epoch [4/15], Step [200/469], Loss: 2.6111%\n",
      "Epoch [4/15], Step [300/469], Loss: 3.9878%\n",
      "Epoch [4/15], Step [400/469], Loss: 11.1947%\n",
      "Epoch [5/15], Step [100/469], Loss: 2.3188%\n",
      "Epoch [5/15], Step [200/469], Loss: 4.4662%\n",
      "Epoch [5/15], Step [300/469], Loss: 6.0193%\n",
      "Epoch [5/15], Step [400/469], Loss: 5.1142%\n",
      "Epoch [6/15], Step [100/469], Loss: 2.1056%\n",
      "Epoch [6/15], Step [200/469], Loss: 3.1712%\n",
      "Epoch [6/15], Step [300/469], Loss: 1.0358%\n",
      "Epoch [6/15], Step [400/469], Loss: 6.7549%\n",
      "Epoch [7/15], Step [100/469], Loss: 1.4508%\n",
      "Epoch [7/15], Step [200/469], Loss: 0.4154%\n",
      "Epoch [7/15], Step [300/469], Loss: 7.5095%\n",
      "Epoch [7/15], Step [400/469], Loss: 0.5065%\n",
      "Epoch [8/15], Step [100/469], Loss: 0.2863%\n",
      "Epoch [8/15], Step [200/469], Loss: 4.1827%\n",
      "Epoch [8/15], Step [300/469], Loss: 4.3447%\n",
      "Epoch [8/15], Step [400/469], Loss: 2.3847%\n",
      "Epoch [9/15], Step [100/469], Loss: 0.3099%\n",
      "Epoch [9/15], Step [200/469], Loss: 1.2037%\n",
      "Epoch [9/15], Step [300/469], Loss: 0.4451%\n",
      "Epoch [9/15], Step [400/469], Loss: 0.6314%\n",
      "Epoch [10/15], Step [100/469], Loss: 6.9519%\n",
      "Epoch [10/15], Step [200/469], Loss: 0.9294%\n",
      "Epoch [10/15], Step [300/469], Loss: 5.9155%\n",
      "Epoch [10/15], Step [400/469], Loss: 0.4387%\n",
      "Epoch [11/15], Step [100/469], Loss: 0.1791%\n",
      "Epoch [11/15], Step [200/469], Loss: 4.1050%\n",
      "Epoch [11/15], Step [300/469], Loss: 0.4560%\n",
      "Epoch [11/15], Step [400/469], Loss: 0.0364%\n",
      "Epoch [12/15], Step [100/469], Loss: 2.7429%\n",
      "Epoch [12/15], Step [200/469], Loss: 4.9561%\n",
      "Epoch [12/15], Step [300/469], Loss: 0.4372%\n",
      "Epoch [12/15], Step [400/469], Loss: 0.2300%\n",
      "Epoch [13/15], Step [100/469], Loss: 0.0756%\n",
      "Epoch [13/15], Step [200/469], Loss: 1.3928%\n",
      "Epoch [13/15], Step [300/469], Loss: 5.7424%\n",
      "Epoch [13/15], Step [400/469], Loss: 0.6232%\n",
      "Epoch [14/15], Step [100/469], Loss: 0.1958%\n",
      "Epoch [14/15], Step [200/469], Loss: 0.4386%\n",
      "Epoch [14/15], Step [300/469], Loss: 1.1739%\n",
      "Epoch [14/15], Step [400/469], Loss: 0.7082%\n",
      "Epoch [15/15], Step [100/469], Loss: 1.8619%\n",
      "Epoch [15/15], Step [200/469], Loss: 1.0900%\n",
      "Epoch [15/15], Step [300/469], Loss: 0.7533%\n",
      "Epoch [15/15], Step [400/469], Loss: 0.4028%\n"
     ]
    }
   ],
   "source": [
    "model = CNN().to(device)\n",
    "criterion = nn.CrossEntropyLoss()\n",
    "optimizer = torch.optim.Adam(model.parameters(), lr=learning_rate)\n",
    "\n",
    "total_step = len(train_loader)\n",
    "for epoch in range(num_epochs):\n",
    "    for i, (images, labels) in enumerate(train_loader):\n",
    "        images = images.to(device)\n",
    "        labels = labels.to(device)\n",
    "\n",
    "    #Forward pass\n",
    "        outputs = model(images)\n",
    "        loss = criterion(outputs, labels)\n",
    "    \n",
    "        #Backward and optimize\n",
    "        optimizer.zero_grad()\n",
    "        loss.backward()\n",
    "        optimizer.step()\n",
    "        if (i+1) % 100 == 0:\n",
    "            print('Epoch [{}/{}], Step [{}/{}], Loss: {:.4%}'.format(epoch+1, num_epochs, i+1, total_step, loss.item()))"
   ]
  },
  {
   "cell_type": "code",
   "execution_count": 14,
   "id": "9fc63441-205c-425e-887a-57ad0e62f01c",
   "metadata": {},
   "outputs": [
    {
     "name": "stdout",
     "output_type": "stream",
     "text": [
      "Test Accuracy of the model on the 10000 test images: 98.72%\n",
      "AUC: 99.29%\n"
     ]
    }
   ],
   "source": [
    "from sklearn.metrics import roc_auc_score\n",
    "preds = []\n",
    "y_true = []\n",
    "#test the model \n",
    "model.eval() #set model to evaluation mode\n",
    "with torch.no_grad():\n",
    "    correct = 0\n",
    "    total = 0\n",
    "    for images, labels in test_loader:\n",
    "        images = images.to(device)\n",
    "        labels = labels.to(device)\n",
    "        outputs = model(images)\n",
    "        _, predicted = torch.max(outputs.data, 1)\n",
    "        total += labels.size(0)\n",
    "        correct += (predicted == labels).sum().item()\n",
    "        detached_pred = predicted.detach().cpu().numpy()\n",
    "        detached_label = labels.detach().cpu().numpy()\n",
    "        for f in range(0,len(detached_pred)):\n",
    "            preds.append(detached_pred[f])\n",
    "            y_true.append(detached_label[f])\n",
    "    print('Test Accuracy of the model on the 10000 test images: {:.2%}' .format(correct / total))\n",
    "    preds = np.eye(10)[preds]\n",
    "    y_true = np.eye(10)[y_true]\n",
    "    auc = roc_auc_score(preds, y_true)\n",
    "    print(\"AUC: {:.2%}\".format(auc))"
   ]
  },
  {
   "cell_type": "code",
   "execution_count": null,
   "id": "edc8f60c-e098-4078-99e4-e31cabad6f87",
   "metadata": {},
   "outputs": [],
   "source": []
  }
 ],
 "metadata": {
  "kernelspec": {
   "display_name": "Python 3 (ipykernel)",
   "language": "python",
   "name": "python3"
  },
  "language_info": {
   "codemirror_mode": {
    "name": "ipython",
    "version": 3
   },
   "file_extension": ".py",
   "mimetype": "text/x-python",
   "name": "python",
   "nbconvert_exporter": "python",
   "pygments_lexer": "ipython3",
   "version": "3.11.5"
  }
 },
 "nbformat": 4,
 "nbformat_minor": 5
}
